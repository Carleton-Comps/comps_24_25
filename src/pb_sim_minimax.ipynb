{
 "cells": [
  {
   "cell_type": "code",
   "execution_count": 8,
   "metadata": {},
   "outputs": [
    {
     "data": {
      "text/plain": [
       "True"
      ]
     },
     "execution_count": 8,
     "metadata": {},
     "output_type": "execute_result"
    }
   ],
   "source": [
    "import poke_battle_sim as pb\n",
    "import copy\n",
    "\n",
    "def switch_poke(battle: pb.Battle):\n",
    "    return battle.t1.poke_list[1]\n",
    "\n",
    "callable(switch_poke)"
   ]
  },
  {
   "cell_type": "code",
   "execution_count": 9,
   "metadata": {},
   "outputs": [],
   "source": [
    "pikachu = pb.Pokemon(\n",
    "    \"Pikachu\", 10, [\"tackle\"], \"male\", stats_actual=[20, 50, 50, 50, 50, 50]\n",
    ")\n",
    "magikarp = pb.Pokemon(\n",
    "    \"magikarp\", 10, [\"tackle\"], \"male\", stats_actual=[50, 50, 50, 50, 50, 50]\n",
    ")\n",
    "pikachu2 = pb.Pokemon(\n",
    "    \"Pikachu\", 10, [\"tackle\"], \"male\", stats_actual=[60, 50, 50, 50, 50, 50]\n",
    ")\n",
    "ash = pb.Trainer(\"Ash\", [pikachu, magikarp], selection=None)\n",
    "\n",
    "\n",
    "misty = pb.Trainer(\"Misty\", [pikachu2])\n",
    "battle = pb.Battle(ash, misty)\n",
    "\n"
   ]
  },
  {
   "cell_type": "code",
   "execution_count": 10,
   "metadata": {},
   "outputs": [
    {
     "data": {
      "text/plain": [
       "['Ash sent out PIKACHU!',\n",
       " 'Misty sent out PIKACHU!',\n",
       " 'Turn 1:',\n",
       " 'Ash sent out MAGIKARP!',\n",
       " 'PIKACHU used Tackle!',\n",
       " 'Turn 2:',\n",
       " 'Ash sent out PIKACHU!',\n",
       " 'PIKACHU used Tackle!',\n",
       " 'Turn 3:',\n",
       " 'Ash sent out MAGIKARP!',\n",
       " 'PIKACHU used Tackle!',\n",
       " 'Turn 4:',\n",
       " 'Ash sent out PIKACHU!',\n",
       " 'PIKACHU used Tackle!',\n",
       " 'PIKACHU fainted!',\n",
       " 'Ash sent out MAGIKARP!',\n",
       " 'Turn 5:',\n",
       " 'PIKACHU used Tackle!',\n",
       " 'Turn 6:',\n",
       " 'PIKACHU used Tackle!',\n",
       " 'Turn 7:',\n",
       " 'PIKACHU used Tackle!',\n",
       " 'MAGIKARP fainted!',\n",
       " 'Misty has defeated Ash!']"
      ]
     },
     "execution_count": 10,
     "metadata": {},
     "output_type": "execute_result"
    }
   ],
   "source": [
    "battle.start()\n",
    "while not battle.is_finished():\n",
    "    battle.turn(t1_turn=[\"other\", \"switch\"], t2_turn=[\"move\", \"tackle\"])\n",
    "\n",
    "battle.get_all_text()"
   ]
  },
  {
   "cell_type": "code",
   "execution_count": 11,
   "metadata": {},
   "outputs": [],
   "source": [
    "class MinimaxState:\n",
    "    def __init__(self, state: pb.Battle, opponent: pb.Trainer) -> None:\n",
    "        self.battle = state\n",
    "        self.opponent = opponent\n",
    "        \n",
    "    def copy(self):\n",
    "        return copy.deepcopy(MinimaxState)\n"
   ]
  },
  {
   "cell_type": "code",
   "execution_count": 12,
   "metadata": {},
   "outputs": [],
   "source": [
    "from poke_battle_sim.core.pokemon import Pokemon\n",
    "\n",
    "\n",
    "class MinimaxTrainer(pb.Trainer):\n",
    "    def __init__(self, name: str, poke_list: list[Pokemon], selection: callable = None):\n",
    "        super().__init__(name, poke_list, selection)\n",
    "\n",
    "    def simulate_turn(self):\n",
    "        pass\n",
    "\n",
    "    def evaluate_state(self, battle: pb.Battle) -> int:\n",
    "        return 5\n",
    "    \n",
    "    def get_opponent_stats(self, opponent):\n",
    "        return opponent.copy()\n",
    "    \n",
    "    def get_translated_move_name(self, move):\n",
    "        return [\"move\", move.name]\n",
    "\n",
    "    def find_best_state(self, state: MinimaxState, opp_move, depth, isMaxPlayer) -> int:\n",
    "        if state.battle.is_finished() or depth == 0:\n",
    "            # Base case\n",
    "\n",
    "            return self.evaluate_state(state.battle)\n",
    "\n",
    "        if isMaxPlayer:\n",
    "            best_score = -10000000000\n",
    "\n",
    "            for max_cur_move in self.current_poke.moves:\n",
    "                max_cur_score = self.find_best_state(state, self.get_translated_move_name(max_cur_move), depth, False)\n",
    "\n",
    "                best_score = max(best_score, max_cur_score)\n",
    "\n",
    "            return best_score\n",
    "\n",
    "        else:\n",
    "            best_score = 10000000000\n",
    "            opponent = state.opponent\n",
    "            \n",
    "            for min_cur_move in opponent.current_poke.moves:\n",
    "                newState = copy.deepcopy(state)\n",
    "                newState.battle.turn(t1_turn=opp_move, t2_turn=self.get_translated_move_name(min_cur_move))\n",
    "                \n",
    "                cur_score = self.find_best_state(newState, None, depth - 1, True)\n",
    "                \n",
    "                best_score = min(cur_score, best_score)\n",
    "                \n",
    "            return best_score\n",
    "        \n"
   ]
  },
  {
   "cell_type": "code",
   "execution_count": 13,
   "metadata": {},
   "outputs": [
    {
     "data": {
      "text/plain": [
       "'tackle'"
      ]
     },
     "execution_count": 13,
     "metadata": {},
     "output_type": "execute_result"
    }
   ],
   "source": [
    "ash.current_poke.moves[0].name\n"
   ]
  },
  {
   "cell_type": "code",
   "execution_count": 14,
   "metadata": {},
   "outputs": [
    {
     "ename": "TypeError",
     "evalue": "Battle.turn() missing 2 required positional arguments: 't1_turn' and 't2_turn'",
     "output_type": "error",
     "traceback": [
      "\u001b[0;31m---------------------------------------------------------------------------\u001b[0m",
      "\u001b[0;31mTypeError\u001b[0m                                 Traceback (most recent call last)",
      "Input \u001b[0;32mIn [14]\u001b[0m, in \u001b[0;36m<cell line: 1>\u001b[0;34m()\u001b[0m\n\u001b[0;32m----> 1\u001b[0m \u001b[43mbattle\u001b[49m\u001b[38;5;241;43m.\u001b[39;49m\u001b[43mturn\u001b[49m\u001b[43m(\u001b[49m\u001b[43m)\u001b[49m\n",
      "\u001b[0;31mTypeError\u001b[0m: Battle.turn() missing 2 required positional arguments: 't1_turn' and 't2_turn'"
     ]
    }
   ],
   "source": [
    "battle.turn()"
   ]
  }
 ],
 "metadata": {
  "kernelspec": {
   "display_name": "Python 3",
   "language": "python",
   "name": "python3"
  },
  "language_info": {
   "codemirror_mode": {
    "name": "ipython",
    "version": 3
   },
   "file_extension": ".py",
   "mimetype": "text/x-python",
   "name": "python",
   "nbconvert_exporter": "python",
   "pygments_lexer": "ipython3",
   "version": "3.10.1"
  }
 },
 "nbformat": 4,
 "nbformat_minor": 2
}
