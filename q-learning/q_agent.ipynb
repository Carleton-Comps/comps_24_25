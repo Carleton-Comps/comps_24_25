{
 "cells": [
  {
   "cell_type": "code",
   "execution_count": 1,
   "metadata": {},
   "outputs": [],
   "source": [
    "import numpy as np\n",
    "import random\n",
    "from gymnasium.spaces import Box, Space\n",
    "from poke_env.player import Gen9EnvSinglePlayer, RandomPlayer\n",
    "from poke_env.environment.abstract_battle import AbstractBattle\n",
<<<<<<< HEAD
    "from poke_env.player.env_player import ObservationType\n",
    "from poke_env.player.player import Player"
=======
    "#from poke_env.player"
>>>>>>> 66fe90acc4d67a0512560184d24a2ba94e3a9bf7
   ]
  },
  {
   "cell_type": "code",
   "execution_count": 6,
   "metadata": {},
<<<<<<< HEAD
   "outputs": [
    {
     "ename": "NameError",
     "evalue": "name 'Player' is not defined",
     "output_type": "error",
     "traceback": [
      "\u001b[0;31m---------------------------------------------------------------------------\u001b[0m",
      "\u001b[0;31mNameError\u001b[0m                                 Traceback (most recent call last)",
      "Cell \u001b[0;32mIn[6], line 2\u001b[0m\n\u001b[1;32m      1\u001b[0m \u001b[38;5;66;03m#class QPlayer(Gen9EnvSinglePlayer):\u001b[39;00m\n\u001b[0;32m----> 2\u001b[0m \u001b[38;5;28;01mclass\u001b[39;00m\u001b[38;5;250m \u001b[39m\u001b[38;5;21;01mQPlayer\u001b[39;00m(\u001b[43mPlayer\u001b[49m):\n\u001b[1;32m      4\u001b[0m     \u001b[38;5;28;01mdef\u001b[39;00m\u001b[38;5;250m \u001b[39m\u001b[38;5;21m__init__\u001b[39m(\u001b[38;5;28mself\u001b[39m, battle_format\u001b[38;5;241m=\u001b[39m\u001b[38;5;124m\"\u001b[39m\u001b[38;5;124mgen9ou\u001b[39m\u001b[38;5;124m\"\u001b[39m, epsilon\u001b[38;5;241m=\u001b[39m\u001b[38;5;241m1.0\u001b[39m, alpha\u001b[38;5;241m=\u001b[39m\u001b[38;5;241m0.1\u001b[39m, gamma\u001b[38;5;241m=\u001b[39m\u001b[38;5;241m0.9\u001b[39m):\n\u001b[1;32m      5\u001b[0m         \u001b[38;5;28msuper\u001b[39m()\u001b[38;5;241m.\u001b[39m\u001b[38;5;21m__init__\u001b[39m(battle_format\u001b[38;5;241m=\u001b[39mbattle_format)\n",
      "\u001b[0;31mNameError\u001b[0m: name 'Player' is not defined"
     ]
    }
   ],
   "source": [
    "#class QPlayer(Gen9EnvSinglePlayer):\n",
    "class QPlayer(Player):\n",
    "\n",
    "    def __init__(self, battle_format=\"gen9ou\", epsilon=1.0, alpha=0.1, gamma=0.9):\n",
    "        super().__init__(battle_format=battle_format)\n",
    "        self.epsilon = epsilon  # Exploration rate\n",
    "        self.alpha = alpha  # Learning rate\n",
    "        self.gamma = gamma  # Discount factor\n",
    "        self.q_table = {}  # Q-table\n",
    "\n",
=======
   "outputs": [],
   "source": []
  },
  {
   "cell_type": "code",
   "execution_count": 3,
   "metadata": {},
   "outputs": [],
   "source": [
    "from poke_env import AccountConfiguration, Player, ServerConfiguration\n",
    "from poke_env.teambuilder.teambuilder import Teambuilder\n",
    "\n",
    "\n",
    "class QTable():\n",
    "    def __init__(self, action_space_size) -> None:\n",
    "        self.actions = [0] * action_space_size \n",
    "        self.table = {}\n",
    "        \n",
    "    def insert_observation(self, obs: np.ndarray):\n",
    "        s = np.array2string(obs)\n",
    "        \n",
    "        self.table[s] = self.actions.copy()\n",
    "\n",
    "class QPlayer(Gen9EnvSinglePlayer):\n",
    "    def __init__(self, opponent: Player | str | None, account_configuration: AccountConfiguration | None = None, *, avatar: int | None = None, battle_format: str | None = None, log_level: int | None = None, save_replays: bool | str = False, server_configuration: ServerConfiguration | None = None, start_listening: bool = True, start_timer_on_battle_start: bool = False, ping_interval: float | None = 20, ping_timeout: float | None = 20, team: str | Teambuilder | None = None, start_challenging: bool = True):\n",
    "        super().__init__(opponent, account_configuration, avatar=avatar, battle_format=battle_format, log_level=log_level, save_replays=save_replays, server_configuration=server_configuration, start_listening=start_listening, start_timer_on_battle_start=start_timer_on_battle_start, ping_interval=ping_interval, ping_timeout=ping_timeout, team=team, start_challenging=start_challenging)\n",
    "        \n",
    "        self.last_turn_score = 0\n",
    "        \n",
>>>>>>> 66fe90acc4d67a0512560184d24a2ba94e3a9bf7
    "    def calc_reward(self, last_battle, current_battle) -> float:\n",
    "        return self.reward_computing_helper(\n",
    "            current_battle, fainted_value=2.0, hp_value=1.0, victory_value=30.0\n",
    "        )\n",
    "        \n",
    "    def\n",
    "\n",
    "    def embed_moves(self, battle: AbstractBattle):\n",
    "        embedding = []\n",
    "        for move in battle.available_moves:\n",
    "            embedding += [move.base_power, move.type, move.category]\n",
    "\n",
    "        return embedding\n",
    "\n",
    "    def embed_pokemon(self, battle: AbstractBattle):\n",
    "        embedding = []\n",
    "\n",
    "        embedding += battle.active_pokemon.base_stats\n",
    "        embedding += battle.active_pokemon.current_hp\n",
    "        embedding += battle.active_pokemon.type\n",
    "\n",
    "        return embedding\n",
    "\n",
    "    def embed_battle(self, battle: AbstractBattle):\n",
    "        embedding = []\n",
    "        embedding += self.embed_pokemon(battle)\n",
    "        embedding += self.embed_moves(battle)\n",
    "        embedding += [battle.opponent_active_pokemon]\n",
    "        \n",
    "        return embedding"
   ]
  },
  {
   "cell_type": "code",
   "execution_count": 2,
   "metadata": {},
   "outputs": [
    {
     "name": "stdout",
     "output_type": "stream",
     "text": [
      "frosmoth (pokemon object) [Active: True, Status: None]\n",
      "arcaninehisui (pokemon object) [Active: True, Status: None]\n",
      "flamigo (pokemon object) [Active: True, Status: None]\n",
      "blastoise (pokemon object) [Active: True, Status: None]\n",
      "komala (pokemon object) [Active: True, Status: None]\n",
      "flamigo (pokemon object) [Active: True, Status: None]\n",
      "komala (pokemon object) [Active: True, Status: FNT]\n",
      "flamigo (pokemon object) [Active: True, Status: None]\n",
      "arcaninehisui (pokemon object) [Active: True, Status: None]\n",
      "tropius (pokemon object) [Active: True, Status: FNT]\n",
      "arcaninehisui (pokemon object) [Active: True, Status: None]\n",
      "mamoswine (pokemon object) [Active: True, Status: None]\n",
      "arcaninehisui (pokemon object) [Active: True, Status: None]\n",
      "mamoswine (pokemon object) [Active: True, Status: None]\n",
      "dragonite (pokemon object) [Active: True, Status: None]\n",
      "mamoswine (pokemon object) [Active: True, Status: None]\n",
      "dragonite (pokemon object) [Active: True, Status: None]\n",
      "mamoswine (pokemon object) [Active: True, Status: None]\n",
      "blastoise (pokemon object) [Active: True, Status: None]\n",
      "ursaring (pokemon object) [Active: True, Status: None]\n",
      "arcaninehisui (pokemon object) [Active: True, Status: PAR]\n",
      "ursaring (pokemon object) [Active: True, Status: None]\n",
      "blastoise (pokemon object) [Active: True, Status: None]\n",
      "ursaring (pokemon object) [Active: True, Status: None]\n",
      "blastoise (pokemon object) [Active: True, Status: None]\n",
      "ursaring (pokemon object) [Active: True, Status: None]\n",
      "brutebonnet (pokemon object) [Active: True, Status: None]\n",
      "flamigo (pokemon object) [Active: True, Status: None]\n",
      "slowkinggalar (pokemon object) [Active: True, Status: None]\n",
      "flamigo (pokemon object) [Active: True, Status: None]\n",
      "slowkinggalar (pokemon object) [Active: True, Status: None]\n",
      "frosmoth (pokemon object) [Active: True, Status: None]\n",
      "slowkinggalar (pokemon object) [Active: True, Status: None]\n",
      "ursaring (pokemon object) [Active: True, Status: None]\n",
      "frosmoth (pokemon object) [Active: True, Status: None]\n",
      "arcaninehisui (pokemon object) [Active: True, Status: PAR]\n",
      "arcaninehisui (pokemon object) [Active: True, Status: PAR]\n",
      "hatterene (pokemon object) [Active: True, Status: None]\n",
      "arcaninehisui (pokemon object) [Active: True, Status: FNT]\n",
      "blastoise (pokemon object) [Active: True, Status: None]\n",
      "hatterene (pokemon object) [Active: True, Status: None]\n",
      "blastoise (pokemon object) [Active: True, Status: None]\n",
      "mamoswine (pokemon object) [Active: True, Status: None]\n",
      "dragonite (pokemon object) [Active: True, Status: None]\n",
      "ursaring (pokemon object) [Active: True, Status: None]\n",
      "dragonite (pokemon object) [Active: True, Status: None]\n",
      "flamigo (pokemon object) [Active: True, Status: None]\n",
      "blastoise (pokemon object) [Active: True, Status: None]\n",
      "frosmoth (pokemon object) [Active: True, Status: None]\n",
      "slowkinggalar (pokemon object) [Active: True, Status: None]\n",
      "frosmoth (pokemon object) [Active: True, Status: None]\n",
      "brutebonnet (pokemon object) [Active: True, Status: None]\n",
      "frosmoth (pokemon object) [Active: True, Status: None]\n",
      "dragonite (pokemon object) [Active: True, Status: None]\n",
      "frosmoth (pokemon object) [Active: True, Status: None]\n",
      "brutebonnet (pokemon object) [Active: True, Status: FNT]\n",
      "dragonite (pokemon object) [Active: True, Status: None]\n",
      "frosmoth (pokemon object) [Active: True, Status: None]\n",
      "frosmoth (pokemon object) [Active: True, Status: None]\n",
      "dragonite (pokemon object) [Active: True, Status: None]\n",
      "dragonite (pokemon object) [Active: True, Status: FNT]\n",
      "frosmoth (pokemon object) [Active: True, Status: None]\n",
      "slowkinggalar (pokemon object) [Active: True, Status: None]\n",
      "slowkinggalar (pokemon object) [Active: True, Status: None]\n",
      "hatterene (pokemon object) [Active: True, Status: None]\n",
      "frosmoth (pokemon object) [Active: True, Status: FNT]\n",
      "slowkinggalar (pokemon object) [Active: True, Status: None]\n",
      "hatterene (pokemon object) [Active: True, Status: None]\n",
      "slowkinggalar (pokemon object) [Active: True, Status: None]\n",
      "mamoswine (pokemon object) [Active: True, Status: None]\n",
      "slowkinggalar (pokemon object) [Active: True, Status: None]\n",
      "mamoswine (pokemon object) [Active: True, Status: None]\n",
      "slowkinggalar (pokemon object) [Active: True, Status: FNT]\n",
      "blastoise (pokemon object) [Active: True, Status: None]\n",
      "mamoswine (pokemon object) [Active: True, Status: None]\n",
      "mamoswine (pokemon object) [Active: True, Status: None]\n",
      "blastoise (pokemon object) [Active: True, Status: None]\n",
      "mamoswine (pokemon object) [Active: True, Status: FNT]\n",
      "blastoise (pokemon object) [Active: True, Status: None]\n",
      "flamigo (pokemon object) [Active: True, Status: None]\n"
     ]
    }
   ],
   "source": [
    "second_player = RandomPlayer()\n",
    "\n",
    "p1 = RandomPlayer()\n",
    "\n",
    "await p1.battle_against(second_player, n_battles=1)"
   ]
  },
  {
   "cell_type": "code",
   "execution_count": 11,
   "metadata": {},
   "outputs": [
    {
     "data": {
      "text/plain": [
       "2600000"
      ]
     },
     "execution_count": 11,
     "metadata": {},
     "output_type": "execute_result"
    }
   ],
   "source": []
  }
 ],
 "metadata": {
  "kernelspec": {
   "display_name": "Python 3",
   "language": "python",
   "name": "python3"
  },
  "language_info": {
   "codemirror_mode": {
    "name": "ipython",
    "version": 3
   },
   "file_extension": ".py",
   "mimetype": "text/x-python",
   "name": "python",
   "nbconvert_exporter": "python",
   "pygments_lexer": "ipython3",
<<<<<<< HEAD
   "version": "3.13.0"
=======
   "version": "3.10.1"
>>>>>>> 66fe90acc4d67a0512560184d24a2ba94e3a9bf7
  }
 },
 "nbformat": 4,
 "nbformat_minor": 2
}
